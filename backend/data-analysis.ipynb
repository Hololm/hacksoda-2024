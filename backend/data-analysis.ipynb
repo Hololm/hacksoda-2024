{
 "cells": [
  {
   "metadata": {
    "ExecuteTime": {
     "end_time": "2024-10-27T03:55:09.639145Z",
     "start_time": "2024-10-27T03:54:58.086199Z"
    }
   },
   "cell_type": "code",
   "source": [
    "import pandas as pd\n",
    "import json\n",
    "import ast\n",
    "import matplotlib.pyplot as plt"
   ],
   "id": "cccfeba6baafcddf",
   "outputs": [
    {
     "name": "stderr",
     "output_type": "stream",
     "text": [
      "Matplotlib is building the font cache; this may take a moment.\n"
     ]
    }
   ],
   "execution_count": 23
  },
  {
   "metadata": {
    "ExecuteTime": {
     "end_time": "2024-10-27T03:42:52.611909Z",
     "start_time": "2024-10-27T03:42:52.568959Z"
    }
   },
   "cell_type": "code",
   "source": "df = pd.read_csv(\"sellers.csv\")",
   "id": "bf1fe0d4c6473a8",
   "outputs": [],
   "execution_count": 2
  },
  {
   "metadata": {
    "ExecuteTime": {
     "end_time": "2024-10-27T03:43:47.274102Z",
     "start_time": "2024-10-27T03:43:47.249475Z"
    }
   },
   "cell_type": "code",
   "source": "df.count()",
   "id": "7eb70cede9620af6",
   "outputs": [
    {
     "data": {
      "text/plain": [
       "uuid                  335\n",
       "name                  335\n",
       "description           333\n",
       "ratings               335\n",
       "business_name         335\n",
       "business_address      334\n",
       "ratings_statistics    322\n",
       "is_pro                335\n",
       "just_launched         335\n",
       "seller_type            16\n",
       "country_code          334\n",
       "dtype: int64"
      ]
     },
     "execution_count": 5,
     "metadata": {},
     "output_type": "execute_result"
    }
   ],
   "execution_count": 5
  },
  {
   "metadata": {
    "ExecuteTime": {
     "end_time": "2024-10-27T03:43:38.639248Z",
     "start_time": "2024-10-27T03:43:38.621016Z"
    }
   },
   "cell_type": "code",
   "source": [
    "#: remove duplicates by seller_id\n",
    "df = df.drop_duplicates(subset='uuid')"
   ],
   "id": "f613a2e803a726fe",
   "outputs": [],
   "execution_count": 4
  },
  {
   "metadata": {
    "ExecuteTime": {
     "end_time": "2024-10-27T03:46:33.257254Z",
     "start_time": "2024-10-27T03:46:33.201127Z"
    }
   },
   "cell_type": "code",
   "source": "df.head()",
   "id": "fb6230ea4164fc0e",
   "outputs": [
    {
     "data": {
      "text/plain": [
       "             uuid                 name  \\\n",
       "0  A3FPSB713N5Z2P       Fire buissness   \n",
       "1  A1XEOW9O1TOWF5  ADI GLOBAL STORE US   \n",
       "2  A1UT6ABTQ5NORN       QTZ ONLINESHOP   \n",
       "3  A2PSQVK2Y4WP4T            2stopshop   \n",
       "4  A1OKP98L4EA109         DEKA'S STORE   \n",
       "\n",
       "                                         description ratings    business_name  \\\n",
       "0  Fire buissness is committed to providing each ...      []    Ldya Dibeculu   \n",
       "1  ADI GLOBAL STORE US is committed to providing ...      []    eFitness a.s.   \n",
       "2  QTZ ONLINESHOP is committed to providing each ...      []  Toretto Fit LLC   \n",
       "3  2stopshop is committed to providing each custo...      []          Nhan Vo   \n",
       "4  DEKA'S STORE is committed to providing each cu...      []     Karla Panait   \n",
       "\n",
       "                                    business_address  \\\n",
       "0            4092 Poplar Ave\\nCONCORD\\nCA\\n94521\\nUS   \n",
       "1  Za Strahovem 2338/44a\\nPraha 6\\nBrevnov\\n16900...   \n",
       "2  27538 Desert Willow Way\\nwesley chapel\\nfl\\n33...   \n",
       "3           3 mercier ave\\nBoston\\nMA\\nMA\\n02123\\nUS   \n",
       "4  12626 Nelson st\\nApt 10\\nGARDEN GROVE\\nCA\\n928...   \n",
       "\n",
       "                                  ratings_statistics  is_pro  just_launched  \\\n",
       "0                                                NaN   False           True   \n",
       "1                                                NaN    True           True   \n",
       "2  {'raw': {'star2Count': 17, 'star5Count': 124, ...    True          False   \n",
       "3  {'raw': {'star2Count': 0, 'star5Count': 2, 'ra...   False          False   \n",
       "4                                                NaN   False           True   \n",
       "\n",
       "  seller_type country_code  \n",
       "0         mid           US  \n",
       "1         mid           CZ  \n",
       "2         mid           US  \n",
       "3         mid           US  \n",
       "4         mid           US  "
      ],
      "text/html": [
       "<div>\n",
       "<style scoped>\n",
       "    .dataframe tbody tr th:only-of-type {\n",
       "        vertical-align: middle;\n",
       "    }\n",
       "\n",
       "    .dataframe tbody tr th {\n",
       "        vertical-align: top;\n",
       "    }\n",
       "\n",
       "    .dataframe thead th {\n",
       "        text-align: right;\n",
       "    }\n",
       "</style>\n",
       "<table border=\"1\" class=\"dataframe\">\n",
       "  <thead>\n",
       "    <tr style=\"text-align: right;\">\n",
       "      <th></th>\n",
       "      <th>uuid</th>\n",
       "      <th>name</th>\n",
       "      <th>description</th>\n",
       "      <th>ratings</th>\n",
       "      <th>business_name</th>\n",
       "      <th>business_address</th>\n",
       "      <th>ratings_statistics</th>\n",
       "      <th>is_pro</th>\n",
       "      <th>just_launched</th>\n",
       "      <th>seller_type</th>\n",
       "      <th>country_code</th>\n",
       "    </tr>\n",
       "  </thead>\n",
       "  <tbody>\n",
       "    <tr>\n",
       "      <th>0</th>\n",
       "      <td>A3FPSB713N5Z2P</td>\n",
       "      <td>Fire buissness</td>\n",
       "      <td>Fire buissness is committed to providing each ...</td>\n",
       "      <td>[]</td>\n",
       "      <td>Ldya Dibeculu</td>\n",
       "      <td>4092 Poplar Ave\\nCONCORD\\nCA\\n94521\\nUS</td>\n",
       "      <td>NaN</td>\n",
       "      <td>False</td>\n",
       "      <td>True</td>\n",
       "      <td>mid</td>\n",
       "      <td>US</td>\n",
       "    </tr>\n",
       "    <tr>\n",
       "      <th>1</th>\n",
       "      <td>A1XEOW9O1TOWF5</td>\n",
       "      <td>ADI GLOBAL STORE US</td>\n",
       "      <td>ADI GLOBAL STORE US is committed to providing ...</td>\n",
       "      <td>[]</td>\n",
       "      <td>eFitness a.s.</td>\n",
       "      <td>Za Strahovem 2338/44a\\nPraha 6\\nBrevnov\\n16900...</td>\n",
       "      <td>NaN</td>\n",
       "      <td>True</td>\n",
       "      <td>True</td>\n",
       "      <td>mid</td>\n",
       "      <td>CZ</td>\n",
       "    </tr>\n",
       "    <tr>\n",
       "      <th>2</th>\n",
       "      <td>A1UT6ABTQ5NORN</td>\n",
       "      <td>QTZ ONLINESHOP</td>\n",
       "      <td>QTZ ONLINESHOP is committed to providing each ...</td>\n",
       "      <td>[]</td>\n",
       "      <td>Toretto Fit LLC</td>\n",
       "      <td>27538 Desert Willow Way\\nwesley chapel\\nfl\\n33...</td>\n",
       "      <td>{'raw': {'star2Count': 17, 'star5Count': 124, ...</td>\n",
       "      <td>True</td>\n",
       "      <td>False</td>\n",
       "      <td>mid</td>\n",
       "      <td>US</td>\n",
       "    </tr>\n",
       "    <tr>\n",
       "      <th>3</th>\n",
       "      <td>A2PSQVK2Y4WP4T</td>\n",
       "      <td>2stopshop</td>\n",
       "      <td>2stopshop is committed to providing each custo...</td>\n",
       "      <td>[]</td>\n",
       "      <td>Nhan Vo</td>\n",
       "      <td>3 mercier ave\\nBoston\\nMA\\nMA\\n02123\\nUS</td>\n",
       "      <td>{'raw': {'star2Count': 0, 'star5Count': 2, 'ra...</td>\n",
       "      <td>False</td>\n",
       "      <td>False</td>\n",
       "      <td>mid</td>\n",
       "      <td>US</td>\n",
       "    </tr>\n",
       "    <tr>\n",
       "      <th>4</th>\n",
       "      <td>A1OKP98L4EA109</td>\n",
       "      <td>DEKA'S STORE</td>\n",
       "      <td>DEKA'S STORE is committed to providing each cu...</td>\n",
       "      <td>[]</td>\n",
       "      <td>Karla Panait</td>\n",
       "      <td>12626 Nelson st\\nApt 10\\nGARDEN GROVE\\nCA\\n928...</td>\n",
       "      <td>NaN</td>\n",
       "      <td>False</td>\n",
       "      <td>True</td>\n",
       "      <td>mid</td>\n",
       "      <td>US</td>\n",
       "    </tr>\n",
       "  </tbody>\n",
       "</table>\n",
       "</div>"
      ]
     },
     "execution_count": 7,
     "metadata": {},
     "output_type": "execute_result"
    }
   ],
   "execution_count": 7
  },
  {
   "metadata": {
    "ExecuteTime": {
     "end_time": "2024-10-27T03:48:45.702600Z",
     "start_time": "2024-10-27T03:48:45.672959Z"
    }
   },
   "cell_type": "code",
   "source": "with_ratings_df = df[df['ratings_statistics'].isna() == False]",
   "id": "13d0bef315a41e2c",
   "outputs": [],
   "execution_count": 11
  },
  {
   "metadata": {
    "ExecuteTime": {
     "end_time": "2024-10-27T03:51:58.049587Z",
     "start_time": "2024-10-27T03:51:57.989008Z"
    }
   },
   "cell_type": "code",
   "source": "with_ratings_df['ratings_statistics'] = with_ratings_df['ratings_statistics'].apply(lambda x: ast.literal_eval(x))",
   "id": "bb1a96c7cbe7a5ad",
   "outputs": [
    {
     "name": "stderr",
     "output_type": "stream",
     "text": [
      "/var/folders/97/c41p3nk52bz71ss090v60d6h0000gn/T/ipykernel_7509/1809014694.py:1: SettingWithCopyWarning: \n",
      "A value is trying to be set on a copy of a slice from a DataFrame.\n",
      "Try using .loc[row_indexer,col_indexer] = value instead\n",
      "\n",
      "See the caveats in the documentation: https://pandas.pydata.org/pandas-docs/stable/user_guide/indexing.html#returning-a-view-versus-a-copy\n",
      "  with_ratings_df['ratings_statistics'] = with_ratings_df['ratings_statistics'].apply(lambda x: ast.literal_eval(x))\n"
     ]
    }
   ],
   "execution_count": 18
  },
  {
   "metadata": {
    "ExecuteTime": {
     "end_time": "2024-10-27T03:52:11.923503Z",
     "start_time": "2024-10-27T03:52:11.903417Z"
    }
   },
   "cell_type": "code",
   "source": "with_ratings_df['positive_percentage'] = with_ratings_df['ratings_statistics'].apply(lambda x: x['positive_percentage'])",
   "id": "1e7c409ce68af476",
   "outputs": [
    {
     "name": "stderr",
     "output_type": "stream",
     "text": [
      "/var/folders/97/c41p3nk52bz71ss090v60d6h0000gn/T/ipykernel_7509/770045137.py:1: SettingWithCopyWarning: \n",
      "A value is trying to be set on a copy of a slice from a DataFrame.\n",
      "Try using .loc[row_indexer,col_indexer] = value instead\n",
      "\n",
      "See the caveats in the documentation: https://pandas.pydata.org/pandas-docs/stable/user_guide/indexing.html#returning-a-view-versus-a-copy\n",
      "  with_ratings_df['positive_percentage'] = with_ratings_df['ratings_statistics'].apply(lambda x: x['positive_percentage'])\n"
     ]
    }
   ],
   "execution_count": 20
  },
  {
   "metadata": {
    "ExecuteTime": {
     "end_time": "2024-10-27T03:53:07.569278Z",
     "start_time": "2024-10-27T03:53:07.537324Z"
    }
   },
   "cell_type": "code",
   "source": "with_ratings_df.head()",
   "id": "b47f4c5b719230b9",
   "outputs": [
    {
     "data": {
      "text/plain": [
       "             uuid             name  \\\n",
       "2  A1UT6ABTQ5NORN   QTZ ONLINESHOP   \n",
       "3  A2PSQVK2Y4WP4T        2stopshop   \n",
       "5  A1V7CXJ5T4H8KJ         Cheap-AF   \n",
       "7  A26S4628PAN4YB  R&S Sellers LLC   \n",
       "8  A3B84DDAMEK1NP        Keranique   \n",
       "\n",
       "                                         description ratings  \\\n",
       "2  QTZ ONLINESHOP is committed to providing each ...      []   \n",
       "3  2stopshop is committed to providing each custo...      []   \n",
       "5  Cheap-AF is committed to providing each custom...      []   \n",
       "7  R&S Sellers LLC is committed to providing each...      []   \n",
       "8  What Is In Keranique? Keranique® was created e...      []   \n",
       "\n",
       "          business_name                                   business_address  \\\n",
       "2       Toretto Fit LLC  27538 Desert Willow Way\\nwesley chapel\\nfl\\n33...   \n",
       "3               Nhan Vo           3 mercier ave\\nBoston\\nMA\\nMA\\n02123\\nUS   \n",
       "5         Bavly  Samuel        2219 Viking CT\\nMURFREESBORO\\nTN\\n37127\\nUS   \n",
       "7       R&S Sellers LLC        295 Milky Way Drive\\nPULASKI\\nTN\\n38478\\nUS   \n",
       "8  Profectus Beauty LLC  111 Town Square Place\\n11th Floor, Suite 1130\\...   \n",
       "\n",
       "                                  ratings_statistics  is_pro  just_launched  \\\n",
       "2  {'raw': {'star2Count': 17, 'star5Count': 124, ...    True          False   \n",
       "3  {'raw': {'star2Count': 0, 'star5Count': 2, 'ra...   False          False   \n",
       "5  {'raw': {'star2Count': 1, 'star5Count': 2, 'ra...    True          False   \n",
       "7  {'raw': {'star2Count': 0, 'star5Count': 81, 'r...    True          False   \n",
       "8  {'raw': {'star2Count': 27, 'star5Count': 7263,...    True          False   \n",
       "\n",
       "  seller_type country_code last_12_months_positive_reviews  \\\n",
       "2         mid           US                            None   \n",
       "3         mid           US                            None   \n",
       "5         mid           US                            None   \n",
       "7        good           US                            None   \n",
       "8        good           US                            None   \n",
       "\n",
       "   positive_percentage  \n",
       "2                   43  \n",
       "3                   67  \n",
       "5                   57  \n",
       "7                   97  \n",
       "8                  100  "
      ],
      "text/html": [
       "<div>\n",
       "<style scoped>\n",
       "    .dataframe tbody tr th:only-of-type {\n",
       "        vertical-align: middle;\n",
       "    }\n",
       "\n",
       "    .dataframe tbody tr th {\n",
       "        vertical-align: top;\n",
       "    }\n",
       "\n",
       "    .dataframe thead th {\n",
       "        text-align: right;\n",
       "    }\n",
       "</style>\n",
       "<table border=\"1\" class=\"dataframe\">\n",
       "  <thead>\n",
       "    <tr style=\"text-align: right;\">\n",
       "      <th></th>\n",
       "      <th>uuid</th>\n",
       "      <th>name</th>\n",
       "      <th>description</th>\n",
       "      <th>ratings</th>\n",
       "      <th>business_name</th>\n",
       "      <th>business_address</th>\n",
       "      <th>ratings_statistics</th>\n",
       "      <th>is_pro</th>\n",
       "      <th>just_launched</th>\n",
       "      <th>seller_type</th>\n",
       "      <th>country_code</th>\n",
       "      <th>last_12_months_positive_reviews</th>\n",
       "      <th>positive_percentage</th>\n",
       "    </tr>\n",
       "  </thead>\n",
       "  <tbody>\n",
       "    <tr>\n",
       "      <th>2</th>\n",
       "      <td>A1UT6ABTQ5NORN</td>\n",
       "      <td>QTZ ONLINESHOP</td>\n",
       "      <td>QTZ ONLINESHOP is committed to providing each ...</td>\n",
       "      <td>[]</td>\n",
       "      <td>Toretto Fit LLC</td>\n",
       "      <td>27538 Desert Willow Way\\nwesley chapel\\nfl\\n33...</td>\n",
       "      <td>{'raw': {'star2Count': 17, 'star5Count': 124, ...</td>\n",
       "      <td>True</td>\n",
       "      <td>False</td>\n",
       "      <td>mid</td>\n",
       "      <td>US</td>\n",
       "      <td>None</td>\n",
       "      <td>43</td>\n",
       "    </tr>\n",
       "    <tr>\n",
       "      <th>3</th>\n",
       "      <td>A2PSQVK2Y4WP4T</td>\n",
       "      <td>2stopshop</td>\n",
       "      <td>2stopshop is committed to providing each custo...</td>\n",
       "      <td>[]</td>\n",
       "      <td>Nhan Vo</td>\n",
       "      <td>3 mercier ave\\nBoston\\nMA\\nMA\\n02123\\nUS</td>\n",
       "      <td>{'raw': {'star2Count': 0, 'star5Count': 2, 'ra...</td>\n",
       "      <td>False</td>\n",
       "      <td>False</td>\n",
       "      <td>mid</td>\n",
       "      <td>US</td>\n",
       "      <td>None</td>\n",
       "      <td>67</td>\n",
       "    </tr>\n",
       "    <tr>\n",
       "      <th>5</th>\n",
       "      <td>A1V7CXJ5T4H8KJ</td>\n",
       "      <td>Cheap-AF</td>\n",
       "      <td>Cheap-AF is committed to providing each custom...</td>\n",
       "      <td>[]</td>\n",
       "      <td>Bavly  Samuel</td>\n",
       "      <td>2219 Viking CT\\nMURFREESBORO\\nTN\\n37127\\nUS</td>\n",
       "      <td>{'raw': {'star2Count': 1, 'star5Count': 2, 'ra...</td>\n",
       "      <td>True</td>\n",
       "      <td>False</td>\n",
       "      <td>mid</td>\n",
       "      <td>US</td>\n",
       "      <td>None</td>\n",
       "      <td>57</td>\n",
       "    </tr>\n",
       "    <tr>\n",
       "      <th>7</th>\n",
       "      <td>A26S4628PAN4YB</td>\n",
       "      <td>R&amp;S Sellers LLC</td>\n",
       "      <td>R&amp;S Sellers LLC is committed to providing each...</td>\n",
       "      <td>[]</td>\n",
       "      <td>R&amp;S Sellers LLC</td>\n",
       "      <td>295 Milky Way Drive\\nPULASKI\\nTN\\n38478\\nUS</td>\n",
       "      <td>{'raw': {'star2Count': 0, 'star5Count': 81, 'r...</td>\n",
       "      <td>True</td>\n",
       "      <td>False</td>\n",
       "      <td>good</td>\n",
       "      <td>US</td>\n",
       "      <td>None</td>\n",
       "      <td>97</td>\n",
       "    </tr>\n",
       "    <tr>\n",
       "      <th>8</th>\n",
       "      <td>A3B84DDAMEK1NP</td>\n",
       "      <td>Keranique</td>\n",
       "      <td>What Is In Keranique? Keranique® was created e...</td>\n",
       "      <td>[]</td>\n",
       "      <td>Profectus Beauty LLC</td>\n",
       "      <td>111 Town Square Place\\n11th Floor, Suite 1130\\...</td>\n",
       "      <td>{'raw': {'star2Count': 27, 'star5Count': 7263,...</td>\n",
       "      <td>True</td>\n",
       "      <td>False</td>\n",
       "      <td>good</td>\n",
       "      <td>US</td>\n",
       "      <td>None</td>\n",
       "      <td>100</td>\n",
       "    </tr>\n",
       "  </tbody>\n",
       "</table>\n",
       "</div>"
      ]
     },
     "execution_count": 22,
     "metadata": {},
     "output_type": "execute_result"
    }
   ],
   "execution_count": 22
  },
  {
   "metadata": {
    "ExecuteTime": {
     "end_time": "2024-10-27T03:57:31.066827Z",
     "start_time": "2024-10-27T03:57:30.900600Z"
    }
   },
   "cell_type": "code",
   "source": [
    "#: I want to see if people who are not pro have lower positive percentages than people who are pro, please plot this\n",
    "\n",
    "pro_df = with_ratings_df[with_ratings_df['is_pro'] == True]\n",
    "non_pro_df = with_ratings_df[with_ratings_df['is_pro'] == False]\n",
    "\n",
    "plt.hist(pro_df['positive_percentage'], bins=20, alpha=0.5, label='pro')\n",
    "plt.hist(non_pro_df['positive_percentage'], bins=20, alpha=0.5, label='non-pro')"
   ],
   "id": "17fcc65751bd6d44",
   "outputs": [
    {
     "data": {
      "text/plain": [
       "(array([1., 0., 0., 0., 1., 0., 1., 0., 0., 0., 0., 0., 0., 0., 0., 0., 0.,\n",
       "        1., 3., 4.]),\n",
       " array([ 50. ,  52.5,  55. ,  57.5,  60. ,  62.5,  65. ,  67.5,  70. ,\n",
       "         72.5,  75. ,  77.5,  80. ,  82.5,  85. ,  87.5,  90. ,  92.5,\n",
       "         95. ,  97.5, 100. ]),\n",
       " <BarContainer object of 20 artists>)"
      ]
     },
     "execution_count": 27,
     "metadata": {},
     "output_type": "execute_result"
    },
    {
     "data": {
      "text/plain": [
       "<Figure size 640x480 with 1 Axes>"
      ],
      "image/png": "[encoded data removed]"
     },
     "metadata": {},
     "output_type": "display_data"
    }
   ],
   "execution_count": 27
  },
  {
   "metadata": {
    "ExecuteTime": {
     "end_time": "2024-10-27T04:01:05.232029Z",
     "start_time": "2024-10-27T04:01:05.208253Z"
    }
   },
   "cell_type": "code",
   "source": "non_pro_df['positive_percentage'].median()",
   "id": "6d03c0aa595d18ca",
   "outputs": [
    {
     "data": {
      "text/plain": [
       "np.float64(96.0)"
      ]
     },
     "execution_count": 30,
     "metadata": {},
     "output_type": "execute_result"
    }
   ],
   "execution_count": 30
  },
  {
   "metadata": {
    "ExecuteTime": {
     "end_time": "2024-10-27T04:01:07.472987Z",
     "start_time": "2024-10-27T04:01:07.455434Z"
    }
   },
   "cell_type": "code",
   "source": "pro_df['positive_percentage'].median()",
   "id": "c56b36ebe9baa774",
   "outputs": [
    {
     "data": {
      "text/plain": [
       "np.float64(93.0)"
      ]
     },
     "execution_count": 31,
     "metadata": {},
     "output_type": "execute_result"
    }
   ],
   "execution_count": 31
  },
  {
   "metadata": {
    "ExecuteTime": {
     "end_time": "2024-10-27T04:10:58.056841Z",
     "start_time": "2024-10-27T04:10:58.040473Z"
    }
   },
   "cell_type": "code",
   "source": "with_address_and_ratings_df = with_ratings_df[with_ratings_df['business_address'].isna() == False]",
   "id": "8683068cb0801f3b",
   "outputs": [],
   "execution_count": 35
  },
  {
   "metadata": {
    "ExecuteTime": {
     "end_time": "2024-10-27T04:11:27.933543Z",
     "start_time": "2024-10-27T04:11:27.909838Z"
    }
   },
   "cell_type": "code",
   "source": "with_address_and_ratings_df[\"address_one\"] = with_address_and_ratings_df['business_address'].apply(lambda x: x.split(\"\\n\")[0])",
   "id": "c9c705e442a2a745",
   "outputs": [
    {
     "name": "stderr",
     "output_type": "stream",
     "text": [
      "/var/folders/97/c41p3nk52bz71ss090v60d6h0000gn/T/ipykernel_7509/2559903784.py:1: SettingWithCopyWarning: \n",
      "A value is trying to be set on a copy of a slice from a DataFrame.\n",
      "Try using .loc[row_indexer,col_indexer] = value instead\n",
      "\n",
      "See the caveats in the documentation: https://pandas.pydata.org/pandas-docs/stable/user_guide/indexing.html#returning-a-view-versus-a-copy\n",
      "  with_address_and_ratings_df[\"address_one\"] = with_address_and_ratings_df['business_address'].apply(lambda x: x.split(\"\\n\")[0])\n"
     ]
    }
   ],
   "execution_count": 38
  },
  {
   "metadata": {
    "ExecuteTime": {
     "end_time": "2024-10-27T04:11:28.783258Z",
     "start_time": "2024-10-27T04:11:28.769761Z"
    }
   },
   "cell_type": "code",
   "source": "with_address_and_ratings_df.head()",
   "id": "5d31b001163df3b1",
   "outputs": [
    {
     "data": {
      "text/plain": [
       "             uuid             name  \\\n",
       "2  A1UT6ABTQ5NORN   QTZ ONLINESHOP   \n",
       "3  A2PSQVK2Y4WP4T        2stopshop   \n",
       "5  A1V7CXJ5T4H8KJ         Cheap-AF   \n",
       "7  A26S4628PAN4YB  R&S Sellers LLC   \n",
       "8  A3B84DDAMEK1NP        Keranique   \n",
       "\n",
       "                                                                                                                                                                                                                                                                                                                                                                                                                                                                                                                                                                                                                                                                                                                                                                                                                                                                                                                                                                                                                                                                                                                                                                                                                                                                                                                                                            description  \\\n",
       "2                                                                                                                                                                                                                                                                                                                                                                                                                                                                                                                                                                                                                                                                                                                                                                                                                                                                                                                                                                                                                                                                                                                                                                                                                                                                 QTZ ONLINESHOP is committed to providing each customer with the highest standard of customer service.   \n",
       "3                                                                                                                                                                                                                                                                                                                                                                                                                                                                                                                                                                                                                                                                                                                                                                                                                                                                                                                                                                                                                                                                                                                                                                                                                                                                      2stopshop is committed to providing each customer with the highest standard of customer service.   \n",
       "5                                                                                                                                                                                                                                                                                                                                                                                                                                                                                                                                                                                                                                                                                                                                                                                                                                                                                                                                                                                                                                                                                                                                                                                                                                                                       Cheap-AF is committed to providing each customer with the highest standard of customer service.   \n",
       "7                                                                                                                                                                                                                                                                                                                                                                                                                                                                                                                                                                                                                                                                                                                                                                                                                                                                                                                                                                                                                                                                                                                                                                                                                                                                R&S Sellers LLC is committed to providing each customer with the highest standard of customer service.   \n",
       "8  What Is In Keranique? Keranique® was created exclusively for women who know how difficult is to live with the effects of hair loss and want to fight back. Clinically Proven Keranique® Hair Regrowth Treatment is designed for women’s unique hair needs and contains Minoxidil for Women, the only FDA Approved Ingredient for Real Hair Regrowth for women.    What products are in the Keranique® Hair Regrowth System? \\nKeranique® Scalp Stimulating Shampoo\\nKeranique® Volumizing Conditioner\\n Keranique® Hair Reg...\\nWhat Is In Keranique?\\nKeranique® was created exclusively for women who know how difficult is to live with the effects of hair loss and want to fight back. Clinically Proven Keranique® Hair Regrowth Treatment is designed for women’s unique hair needs and contains Minoxidil for Women, the only FDA Approved Ingredient for Real Hair Regrowth for women. \\r\\n \\nWhat products are in the Keranique® Hair Regrowth System?\\nKeranique® Scalp Stimulating ShampooKeranique® Volumizing ConditionerKeranique® Hair Regrowth TreatmentKeranique® Lift & Repair Treatment\\nWhat Is In Keranique Vitamins?\\nKeranique Daily Essentials contains Biotin, and is formulated to support the Keranique Hair Regrowth System to help grow thicker fuller hair. These ingredients help maintain healthy hair follicles.\\nSee moreSee less   \n",
       "\n",
       "  ratings         business_name  \\\n",
       "2      []       Toretto Fit LLC   \n",
       "3      []               Nhan Vo   \n",
       "5      []         Bavly  Samuel   \n",
       "7      []       R&S Sellers LLC   \n",
       "8      []  Profectus Beauty LLC   \n",
       "\n",
       "                                                            business_address  \\\n",
       "2                      27538 Desert Willow Way\\nwesley chapel\\nfl\\n33544\\nUS   \n",
       "3                                   3 mercier ave\\nBoston\\nMA\\nMA\\n02123\\nUS   \n",
       "5                                2219 Viking CT\\nMURFREESBORO\\nTN\\n37127\\nUS   \n",
       "7                                295 Milky Way Drive\\nPULASKI\\nTN\\n38478\\nUS   \n",
       "8  111 Town Square Place\\n11th Floor, Suite 1130\\nJERSEY CITY\\nNJ\\n07310\\nUS   \n",
       "\n",
       "                                                                                                                                                                                                                                                                                                                                                                                                            ratings_statistics  \\\n",
       "2        {'raw': {'star2Count': 17, 'star5Count': 124, 'ratingCountWithText': 274, 'star4': 4, 'star5': 45, 'star5CountWithText': 123, 'star2': 6, 'star3Count': 14, 'star1Count': 112, 'star3': 5, 'ratingCount': 277, 'star1': 40, 'star4Count': 10, 'star4CountWithText': 9, 'star3CountWithText': 14, 'star1CountWithText': 111, 'star2CountWithText': 17}, 'total_ratings': 277, 'positive_percentage': 43, 'stars': 3.0}   \n",
       "3                           {'raw': {'star2Count': 0, 'star5Count': 2, 'ratingCountWithText': 3, 'star4': 0, 'star5': 67, 'star5CountWithText': 2, 'star2': 0, 'star3Count': 0, 'star1Count': 1, 'star3': 0, 'ratingCount': 3, 'star1': 33, 'star4Count': 0, 'star4CountWithText': 0, 'star3CountWithText': 0, 'star1CountWithText': 1, 'star2CountWithText': 0}, 'total_ratings': 3, 'positive_percentage': 67, 'stars': 3.5}   \n",
       "5                        {'raw': {'star2Count': 1, 'star5Count': 2, 'ratingCountWithText': 7, 'star4': 29, 'star5': 29, 'star5CountWithText': 2, 'star2': 14, 'star3Count': 1, 'star1Count': 1, 'star3': 14, 'ratingCount': 7, 'star1': 14, 'star4Count': 2, 'star4CountWithText': 2, 'star3CountWithText': 1, 'star1CountWithText': 1, 'star2CountWithText': 1}, 'total_ratings': 7, 'positive_percentage': 57, 'stars': 3.5}   \n",
       "7                      {'raw': {'star2Count': 0, 'star5Count': 81, 'ratingCountWithText': 91, 'star4': 10, 'star5': 88, 'star5CountWithText': 80, 'star2': 0, 'star3Count': 0, 'star1Count': 2, 'star3': 0, 'ratingCount': 92, 'star1': 2, 'star4Count': 9, 'star4CountWithText': 9, 'star3CountWithText': 0, 'star1CountWithText': 2, 'star2CountWithText': 0}, 'total_ratings': 92, 'positive_percentage': 97, 'stars': 5.0}   \n",
       "8  {'raw': {'star2Count': 27, 'star5Count': 7263, 'ratingCountWithText': 8166, 'star4': 9, 'star5': 89, 'star5CountWithText': 7251, 'star2': 0, 'star3Count': 47, 'star1Count': 84, 'star3': 1, 'ratingCount': 8178, 'star1': 1, 'star4Count': 757, 'star4CountWithText': 757, 'star3CountWithText': 47, 'star1CountWithText': 84, 'star2CountWithText': 27}, 'total_ratings': 8178, 'positive_percentage': 100, 'stars': 5.0}   \n",
       "\n",
       "   is_pro  just_launched seller_type country_code  \\\n",
       "2    True          False         mid           US   \n",
       "3   False          False         mid           US   \n",
       "5    True          False         mid           US   \n",
       "7    True          False        good           US   \n",
       "8    True          False        good           US   \n",
       "\n",
       "  last_12_months_positive_reviews  positive_percentage  \\\n",
       "2                            None                   43   \n",
       "3                            None                   67   \n",
       "5                            None                   57   \n",
       "7                            None                   97   \n",
       "8                            None                  100   \n",
       "\n",
       "               address_one  \n",
       "2  27538 Desert Willow Way  \n",
       "3            3 mercier ave  \n",
       "5           2219 Viking CT  \n",
       "7      295 Milky Way Drive  \n",
       "8    111 Town Square Place  "
      ],
      "text/html": [
       "<div>\n",
       "<style scoped>\n",
       "    .dataframe tbody tr th:only-of-type {\n",
       "        vertical-align: middle;\n",
       "    }\n",
       "\n",
       "    .dataframe tbody tr th {\n",
       "        vertical-align: top;\n",
       "    }\n",
       "\n",
       "    .dataframe thead th {\n",
       "        text-align: right;\n",
       "    }\n",
       "</style>\n",
       "<table border=\"1\" class=\"dataframe\">\n",
       "  <thead>\n",
       "    <tr style=\"text-align: right;\">\n",
       "      <th></th>\n",
       "      <th>uuid</th>\n",
       "      <th>name</th>\n",
       "      <th>description</th>\n",
       "      <th>ratings</th>\n",
       "      <th>business_name</th>\n",
       "      <th>business_address</th>\n",
       "      <th>ratings_statistics</th>\n",
       "      <th>is_pro</th>\n",
       "      <th>just_launched</th>\n",
       "      <th>seller_type</th>\n",
       "      <th>country_code</th>\n",
       "      <th>last_12_months_positive_reviews</th>\n",
       "      <th>positive_percentage</th>\n",
       "      <th>address_one</th>\n",
       "    </tr>\n",
       "  </thead>\n",
       "  <tbody>\n",
       "    <tr>\n",
       "      <th>2</th>\n",
       "      <td>A1UT6ABTQ5NORN</td>\n",
       "      <td>QTZ ONLINESHOP</td>\n",
       "      <td>QTZ ONLINESHOP is committed to providing each customer with the highest standard of customer service.</td>\n",
       "      <td>[]</td>\n",
       "      <td>Toretto Fit LLC</td>\n",
       "      <td>27538 Desert Willow Way\\nwesley chapel\\nfl\\n33544\\nUS</td>\n",
       "      <td>{'raw': {'star2Count': 17, 'star5Count': 124, 'ratingCountWithText': 274, 'star4': 4, 'star5': 45, 'star5CountWithText': 123, 'star2': 6, 'star3Count': 14, 'star1Count': 112, 'star3': 5, 'ratingCount': 277, 'star1': 40, 'star4Count': 10, 'star4CountWithText': 9, 'star3CountWithText': 14, 'star1CountWithText': 111, 'star2CountWithText': 17}, 'total_ratings': 277, 'positive_percentage': 43, 'stars': 3.0}</td>\n",
       "      <td>True</td>\n",
       "      <td>False</td>\n",
       "      <td>mid</td>\n",
       "      <td>US</td>\n",
       "      <td>None</td>\n",
       "      <td>43</td>\n",
       "      <td>27538 Desert Willow Way</td>\n",
       "    </tr>\n",
       "    <tr>\n",
       "      <th>3</th>\n",
       "      <td>A2PSQVK2Y4WP4T</td>\n",
       "      <td>2stopshop</td>\n",
       "      <td>2stopshop is committed to providing each customer with the highest standard of customer service.</td>\n",
       "      <td>[]</td>\n",
       "      <td>Nhan Vo</td>\n",
       "      <td>3 mercier ave\\nBoston\\nMA\\nMA\\n02123\\nUS</td>\n",
       "      <td>{'raw': {'star2Count': 0, 'star5Count': 2, 'ratingCountWithText': 3, 'star4': 0, 'star5': 67, 'star5CountWithText': 2, 'star2': 0, 'star3Count': 0, 'star1Count': 1, 'star3': 0, 'ratingCount': 3, 'star1': 33, 'star4Count': 0, 'star4CountWithText': 0, 'star3CountWithText': 0, 'star1CountWithText': 1, 'star2CountWithText': 0}, 'total_ratings': 3, 'positive_percentage': 67, 'stars': 3.5}</td>\n",
       "      <td>False</td>\n",
       "      <td>False</td>\n",
       "      <td>mid</td>\n",
       "      <td>US</td>\n",
       "      <td>None</td>\n",
       "      <td>67</td>\n",
       "      <td>3 mercier ave</td>\n",
       "    </tr>\n",
       "    <tr>\n",
       "      <th>5</th>\n",
       "      <td>A1V7CXJ5T4H8KJ</td>\n",
       "      <td>Cheap-AF</td>\n",
       "      <td>Cheap-AF is committed to providing each customer with the highest standard of customer service.</td>\n",
       "      <td>[]</td>\n",
       "      <td>Bavly  Samuel</td>\n",
       "      <td>2219 Viking CT\\nMURFREESBORO\\nTN\\n37127\\nUS</td>\n",
       "      <td>{'raw': {'star2Count': 1, 'star5Count': 2, 'ratingCountWithText': 7, 'star4': 29, 'star5': 29, 'star5CountWithText': 2, 'star2': 14, 'star3Count': 1, 'star1Count': 1, 'star3': 14, 'ratingCount': 7, 'star1': 14, 'star4Count': 2, 'star4CountWithText': 2, 'star3CountWithText': 1, 'star1CountWithText': 1, 'star2CountWithText': 1}, 'total_ratings': 7, 'positive_percentage': 57, 'stars': 3.5}</td>\n",
       "      <td>True</td>\n",
       "      <td>False</td>\n",
       "      <td>mid</td>\n",
       "      <td>US</td>\n",
       "      <td>None</td>\n",
       "      <td>57</td>\n",
       "      <td>2219 Viking CT</td>\n",
       "    </tr>\n",
       "    <tr>\n",
       "      <th>7</th>\n",
       "      <td>A26S4628PAN4YB</td>\n",
       "      <td>R&amp;S Sellers LLC</td>\n",
       "      <td>R&amp;S Sellers LLC is committed to providing each customer with the highest standard of customer service.</td>\n",
       "      <td>[]</td>\n",
       "      <td>R&amp;S Sellers LLC</td>\n",
       "      <td>295 Milky Way Drive\\nPULASKI\\nTN\\n38478\\nUS</td>\n",
       "      <td>{'raw': {'star2Count': 0, 'star5Count': 81, 'ratingCountWithText': 91, 'star4': 10, 'star5': 88, 'star5CountWithText': 80, 'star2': 0, 'star3Count': 0, 'star1Count': 2, 'star3': 0, 'ratingCount': 92, 'star1': 2, 'star4Count': 9, 'star4CountWithText': 9, 'star3CountWithText': 0, 'star1CountWithText': 2, 'star2CountWithText': 0}, 'total_ratings': 92, 'positive_percentage': 97, 'stars': 5.0}</td>\n",
       "      <td>True</td>\n",
       "      <td>False</td>\n",
       "      <td>good</td>\n",
       "      <td>US</td>\n",
       "      <td>None</td>\n",
       "      <td>97</td>\n",
       "      <td>295 Milky Way Drive</td>\n",
       "    </tr>\n",
       "    <tr>\n",
       "      <th>8</th>\n",
       "      <td>A3B84DDAMEK1NP</td>\n",
       "      <td>Keranique</td>\n",
       "      <td>What Is In Keranique? Keranique® was created exclusively for women who know how difficult is to live with the effects of hair loss and want to fight back. Clinically Proven Keranique® Hair Regrowth Treatment is designed for women’s unique hair needs and contains Minoxidil for Women, the only FDA Approved Ingredient for Real Hair Regrowth for women.    What products are in the Keranique® Hair Regrowth System? \\nKeranique® Scalp Stimulating Shampoo\\nKeranique® Volumizing Conditioner\\n Keranique® Hair Reg...\\nWhat Is In Keranique?\\nKeranique® was created exclusively for women who know how difficult is to live with the effects of hair loss and want to fight back. Clinically Proven Keranique® Hair Regrowth Treatment is designed for women’s unique hair needs and contains Minoxidil for Women, the only FDA Approved Ingredient for Real Hair Regrowth for women. \\r\\n \\nWhat products are in the Keranique® Hair Regrowth System?\\nKeranique® Scalp Stimulating ShampooKeranique® Volumizing ConditionerKeranique® Hair Regrowth TreatmentKeranique® Lift &amp; Repair Treatment\\nWhat Is In Keranique Vitamins?\\nKeranique Daily Essentials contains Biotin, and is formulated to support the Keranique Hair Regrowth System to help grow thicker fuller hair. These ingredients help maintain healthy hair follicles.\\nSee moreSee less</td>\n",
       "      <td>[]</td>\n",
       "      <td>Profectus Beauty LLC</td>\n",
       "      <td>111 Town Square Place\\n11th Floor, Suite 1130\\nJERSEY CITY\\nNJ\\n07310\\nUS</td>\n",
       "      <td>{'raw': {'star2Count': 27, 'star5Count': 7263, 'ratingCountWithText': 8166, 'star4': 9, 'star5': 89, 'star5CountWithText': 7251, 'star2': 0, 'star3Count': 47, 'star1Count': 84, 'star3': 1, 'ratingCount': 8178, 'star1': 1, 'star4Count': 757, 'star4CountWithText': 757, 'star3CountWithText': 47, 'star1CountWithText': 84, 'star2CountWithText': 27}, 'total_ratings': 8178, 'positive_percentage': 100, 'stars': 5.0}</td>\n",
       "      <td>True</td>\n",
       "      <td>False</td>\n",
       "      <td>good</td>\n",
       "      <td>US</td>\n",
       "      <td>None</td>\n",
       "      <td>100</td>\n",
       "      <td>111 Town Square Place</td>\n",
       "    </tr>\n",
       "  </tbody>\n",
       "</table>\n",
       "</div>"
      ]
     },
     "execution_count": 39,
     "metadata": {},
     "output_type": "execute_result"
    }
   ],
   "execution_count": 39
  },
  {
   "metadata": {
    "ExecuteTime": {
     "end_time": "2024-10-27T04:12:24.386894Z",
     "start_time": "2024-10-27T04:12:24.349838Z"
    }
   },
   "cell_type": "code",
   "source": "with_lowercase_df = with_address_and_ratings_df[with_address_and_ratings_df['address_one'].str.islower() == True]",
   "id": "8071b88114a47ac",
   "outputs": [],
   "execution_count": 40
  },
  {
   "metadata": {
    "ExecuteTime": {
     "end_time": "2024-10-27T04:12:46.928691Z",
     "start_time": "2024-10-27T04:12:46.896514Z"
    }
   },
   "cell_type": "code",
   "source": "without_lowercase_df = with_address_and_ratings_df[with_address_and_ratings_df['address_one'].str.islower() == False]",
   "id": "edd1f79c7d0c6cca",
   "outputs": [],
   "execution_count": 41
  },
  {
   "metadata": {
    "ExecuteTime": {
     "end_time": "2024-10-27T04:12:59.491918Z",
     "start_time": "2024-10-27T04:12:59.472992Z"
    }
   },
   "cell_type": "code",
   "source": "with_lowercase_df['positive_percentage'].mean()",
   "id": "ea05187f97b7dd7e",
   "outputs": [
    {
     "data": {
      "text/plain": [
       "np.float64(83.85714285714286)"
      ]
     },
     "execution_count": 42,
     "metadata": {},
     "output_type": "execute_result"
    }
   ],
   "execution_count": 42
  },
  {
   "metadata": {
    "ExecuteTime": {
     "end_time": "2024-10-27T04:13:04.466090Z",
     "start_time": "2024-10-27T04:13:04.447639Z"
    }
   },
   "cell_type": "code",
   "source": "without_lowercase_df['positive_percentage'].mean()",
   "id": "ce22c05e6366b5af",
   "outputs": [
    {
     "data": {
      "text/plain": [
       "np.float64(89.23)"
      ]
     },
     "execution_count": 43,
     "metadata": {},
     "output_type": "execute_result"
    }
   ],
   "execution_count": 43
  },
  {
   "metadata": {
    "ExecuteTime": {
     "end_time": "2024-10-27T04:34:36.150467Z",
     "start_time": "2024-10-27T04:34:36.048344Z"
    }
   },
   "cell_type": "code",
   "source": [
    "with_lowercase_names_df = with_ratings_df[with_ratings_df['name'].str.islower() == True]\n",
    "without_lowercase_names_df = with_ratings_df[with_ratings_df['name'].str.islower() == False]"
   ],
   "id": "1375623e30e60ed1",
   "outputs": [],
   "execution_count": 44
  },
  {
   "metadata": {
    "ExecuteTime": {
     "end_time": "2024-10-27T04:34:39.974382Z",
     "start_time": "2024-10-27T04:34:39.947122Z"
    }
   },
   "cell_type": "code",
   "source": "with_lowercase_names_df['positive_percentage'].mean()",
   "id": "3b71e3a04653365",
   "outputs": [
    {
     "data": {
      "text/plain": [
       "np.float64(88.3529411764706)"
      ]
     },
     "execution_count": 45,
     "metadata": {},
     "output_type": "execute_result"
    }
   ],
   "execution_count": 45
  },
  {
   "metadata": {
    "ExecuteTime": {
     "end_time": "2024-10-27T04:34:41.852752Z",
     "start_time": "2024-10-27T04:34:41.836137Z"
    }
   },
   "cell_type": "code",
   "source": "without_lowercase_names_df['positive_percentage'].mean()",
   "id": "60f187de2bb00c60",
   "outputs": [
    {
     "data": {
      "text/plain": [
       "np.float64(88.9311475409836)"
      ]
     },
     "execution_count": 46,
     "metadata": {},
     "output_type": "execute_result"
    }
   ],
   "execution_count": 46
  },
  {
   "metadata": {
    "ExecuteTime": {
     "end_time": "2024-10-27T05:09:33.130853Z",
     "start_time": "2024-10-27T05:09:32.979673Z"
    }
   },
   "cell_type": "code",
   "source": [
    "#: check if there is a correlation between positive percentage and having a default vs non default description\n",
    "\n",
    "with_description_df = with_ratings_df[with_ratings_df['description'].isna() == False]\n",
    "has_default_description_df = with_description_df[with_description_df['description'].str.contains(\"is committed to providing each customer with the highest standard of customer service.\")]\n",
    "no_default_description_df = with_description_df[with_description_df['description'].str.contains(\"is committed to providing each customer with the highest standard of customer service.\") == False]"
   ],
   "id": "ee1b00cfeee823df",
   "outputs": [],
   "execution_count": 47
  },
  {
   "metadata": {
    "ExecuteTime": {
     "end_time": "2024-10-27T05:09:36.636416Z",
     "start_time": "2024-10-27T05:09:36.616327Z"
    }
   },
   "cell_type": "code",
   "source": "has_default_description_df['positive_percentage'].mean()",
   "id": "9935154c5156e11e",
   "outputs": [
    {
     "data": {
      "text/plain": [
       "np.float64(90.38659793814433)"
      ]
     },
     "execution_count": 48,
     "metadata": {},
     "output_type": "execute_result"
    }
   ],
   "execution_count": 48
  },
  {
   "metadata": {
    "ExecuteTime": {
     "end_time": "2024-10-27T05:09:38.502407Z",
     "start_time": "2024-10-27T05:09:38.491238Z"
    }
   },
   "cell_type": "code",
   "source": "no_default_description_df['positive_percentage'].mean()",
   "id": "cdfc63e4dc5df027",
   "outputs": [
    {
     "data": {
      "text/plain": [
       "np.float64(86.92857142857143)"
      ]
     },
     "execution_count": 49,
     "metadata": {},
     "output_type": "execute_result"
    }
   ],
   "execution_count": 49
  },
  {
   "metadata": {},
   "cell_type": "code",
   "outputs": [],
   "execution_count": null,
   "source": "",
   "id": "c72267043904b816"
  }
 ],
 "metadata": {
  "kernelspec": {
   "display_name": "Python 3",
   "language": "python",
   "name": "python3"
  },
  "language_info": {
   "codemirror_mode": {
    "name": "ipython",
    "version": 2
   },
   "file_extension": ".py",
   "mimetype": "text/x-python",
   "name": "python",
   "nbconvert_exporter": "python",
   "pygments_lexer": "ipython2",
   "version": "2.7.6"
  }
 },
 "nbformat": 4,
 "nbformat_minor": 5
}
